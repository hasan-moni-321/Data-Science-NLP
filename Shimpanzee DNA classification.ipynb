{
 "cells": [
  {
   "cell_type": "code",
   "execution_count": 279,
   "metadata": {},
   "outputs": [],
   "source": [
    "import numpy as np\n",
    "import pandas as pd\n",
    "import seaborn as sns\n",
    "import matplotlib.pyplot as plt\n",
    "\n",
    "from sklearn.feature_extraction.text import TfidfVectorizer, CountVectorizer\n",
    "from sklearn.model_selection import train_test_split\n",
    "from sklearn.naive_bayes import MultinomialNB\n",
    "from sklearn.ensemble import RandomForestClassifier\n",
    "from sklearn.metrics import classification_report, confusion_matrix\n",
    "from sklearn.svm import SVC\n"
   ]
  },
  {
   "cell_type": "code",
   "execution_count": 255,
   "metadata": {},
   "outputs": [],
   "source": [
    "data = pd.read_table('https://raw.githubusercontent.com/krishnaik06/DNA-Sequencing-Classifier/master/chimp_data.txt')"
   ]
  },
  {
   "cell_type": "code",
   "execution_count": 256,
   "metadata": {},
   "outputs": [
    {
     "data": {
      "text/html": [
       "<div>\n",
       "<style scoped>\n",
       "    .dataframe tbody tr th:only-of-type {\n",
       "        vertical-align: middle;\n",
       "    }\n",
       "\n",
       "    .dataframe tbody tr th {\n",
       "        vertical-align: top;\n",
       "    }\n",
       "\n",
       "    .dataframe thead th {\n",
       "        text-align: right;\n",
       "    }\n",
       "</style>\n",
       "<table border=\"1\" class=\"dataframe\">\n",
       "  <thead>\n",
       "    <tr style=\"text-align: right;\">\n",
       "      <th></th>\n",
       "      <th>sequence</th>\n",
       "      <th>class</th>\n",
       "    </tr>\n",
       "  </thead>\n",
       "  <tbody>\n",
       "    <tr>\n",
       "      <td>0</td>\n",
       "      <td>ATGCCCCAACTAAATACCGCCGTATGACCCACCATAATTACCCCCA...</td>\n",
       "      <td>4</td>\n",
       "    </tr>\n",
       "    <tr>\n",
       "      <td>1</td>\n",
       "      <td>ATGAACGAAAATCTATTCGCTTCATTCGCTGCCCCCACAATCCTAG...</td>\n",
       "      <td>4</td>\n",
       "    </tr>\n",
       "    <tr>\n",
       "      <td>2</td>\n",
       "      <td>ATGGCCTCGCGCTGGTGGCGGTGGCGACGCGGCTGCTCCTGGAGGC...</td>\n",
       "      <td>4</td>\n",
       "    </tr>\n",
       "    <tr>\n",
       "      <td>3</td>\n",
       "      <td>ATGGCCTCGCGCTGGTGGCGGTGGCGACGCGGCTGCTCCTGGAGGC...</td>\n",
       "      <td>4</td>\n",
       "    </tr>\n",
       "    <tr>\n",
       "      <td>4</td>\n",
       "      <td>ATGGGCAGCGCCAGCCCGGGTCTGAGCAGCGTGTCCCCCAGCCACC...</td>\n",
       "      <td>6</td>\n",
       "    </tr>\n",
       "  </tbody>\n",
       "</table>\n",
       "</div>"
      ],
      "text/plain": [
       "                                            sequence  class\n",
       "0  ATGCCCCAACTAAATACCGCCGTATGACCCACCATAATTACCCCCA...      4\n",
       "1  ATGAACGAAAATCTATTCGCTTCATTCGCTGCCCCCACAATCCTAG...      4\n",
       "2  ATGGCCTCGCGCTGGTGGCGGTGGCGACGCGGCTGCTCCTGGAGGC...      4\n",
       "3  ATGGCCTCGCGCTGGTGGCGGTGGCGACGCGGCTGCTCCTGGAGGC...      4\n",
       "4  ATGGGCAGCGCCAGCCCGGGTCTGAGCAGCGTGTCCCCCAGCCACC...      6"
      ]
     },
     "execution_count": 256,
     "metadata": {},
     "output_type": "execute_result"
    }
   ],
   "source": [
    "data.head()"
   ]
  },
  {
   "cell_type": "code",
   "execution_count": 257,
   "metadata": {},
   "outputs": [
    {
     "data": {
      "text/plain": [
       "(1682, 2)"
      ]
     },
     "execution_count": 257,
     "metadata": {},
     "output_type": "execute_result"
    }
   ],
   "source": [
    "data.shape"
   ]
  },
  {
   "cell_type": "markdown",
   "metadata": {},
   "source": [
    "# Feature Engineering"
   ]
  },
  {
   "cell_type": "code",
   "execution_count": 258,
   "metadata": {},
   "outputs": [
    {
     "data": {
      "text/plain": [
       "sequence    0\n",
       "class       0\n",
       "dtype: int64"
      ]
     },
     "execution_count": 258,
     "metadata": {},
     "output_type": "execute_result"
    }
   ],
   "source": [
    "#checking null value\n",
    "data.isnull().sum()"
   ]
  },
  {
   "cell_type": "code",
   "execution_count": 259,
   "metadata": {},
   "outputs": [
    {
     "name": "stdout",
     "output_type": "stream",
     "text": [
      "<class 'pandas.core.frame.DataFrame'>\n",
      "RangeIndex: 1682 entries, 0 to 1681\n",
      "Data columns (total 2 columns):\n",
      "sequence    1682 non-null object\n",
      "class       1682 non-null int64\n",
      "dtypes: int64(1), object(1)\n",
      "memory usage: 26.4+ KB\n"
     ]
    }
   ],
   "source": [
    "#some information of the dataset\n",
    "data.info()"
   ]
  },
  {
   "cell_type": "code",
   "execution_count": null,
   "metadata": {},
   "outputs": [],
   "source": []
  },
  {
   "cell_type": "code",
   "execution_count": 260,
   "metadata": {},
   "outputs": [
    {
     "data": {
      "text/plain": [
       "array([4, 6, 0, 1, 3, 2, 5])"
      ]
     },
     "execution_count": 260,
     "metadata": {},
     "output_type": "execute_result"
    }
   ],
   "source": [
    "#printing unique value of class column\n",
    "data['class'].unique()"
   ]
  },
  {
   "cell_type": "code",
   "execution_count": 261,
   "metadata": {},
   "outputs": [
    {
     "data": {
      "text/plain": [
       "<matplotlib.axes._subplots.AxesSubplot at 0x7f8f8f06b390>"
      ]
     },
     "execution_count": 261,
     "metadata": {},
     "output_type": "execute_result"
    },
    {
     "data": {
      "image/png": "[encoded data removed]",
      "text/plain": [
       "<Figure size 432x288 with 1 Axes>"
      ]
     },
     "metadata": {
      "needs_background": "light"
     },
     "output_type": "display_data"
    }
   ],
   "source": [
    "#checking is it balance or imbalance dataset\n",
    "sns.countplot(data['class'])"
   ]
  },
  {
   "cell_type": "markdown",
   "metadata": {},
   "source": [
    "We can say the dataset is balance"
   ]
  },
  {
   "cell_type": "code",
   "execution_count": null,
   "metadata": {},
   "outputs": [],
   "source": []
  },
  {
   "cell_type": "code",
   "execution_count": 262,
   "metadata": {},
   "outputs": [],
   "source": [
    "#using k-mers technique to divide DNA sequence\n",
    "def get_k_mers(sequence, size=8):\n",
    "    return [sequence[x:x+size].lower() for x in range(len(sequence)-size+1)]\n",
    "\n",
    "data['word'] = data.apply(lambda x: get_k_mers(x['sequence']), axis=1)"
   ]
  },
  {
   "cell_type": "code",
   "execution_count": 263,
   "metadata": {},
   "outputs": [
    {
     "data": {
      "text/html": [
       "<div>\n",
       "<style scoped>\n",
       "    .dataframe tbody tr th:only-of-type {\n",
       "        vertical-align: middle;\n",
       "    }\n",
       "\n",
       "    .dataframe tbody tr th {\n",
       "        vertical-align: top;\n",
       "    }\n",
       "\n",
       "    .dataframe thead th {\n",
       "        text-align: right;\n",
       "    }\n",
       "</style>\n",
       "<table border=\"1\" class=\"dataframe\">\n",
       "  <thead>\n",
       "    <tr style=\"text-align: right;\">\n",
       "      <th></th>\n",
       "      <th>sequence</th>\n",
       "      <th>class</th>\n",
       "      <th>word</th>\n",
       "    </tr>\n",
       "  </thead>\n",
       "  <tbody>\n",
       "    <tr>\n",
       "      <td>0</td>\n",
       "      <td>ATGCCCCAACTAAATACCGCCGTATGACCCACCATAATTACCCCCA...</td>\n",
       "      <td>4</td>\n",
       "      <td>[atgcccca, tgccccaa, gccccaac, ccccaact, cccaa...</td>\n",
       "    </tr>\n",
       "    <tr>\n",
       "      <td>1</td>\n",
       "      <td>ATGAACGAAAATCTATTCGCTTCATTCGCTGCCCCCACAATCCTAG...</td>\n",
       "      <td>4</td>\n",
       "      <td>[atgaacga, tgaacgaa, gaacgaaa, aacgaaaa, acgaa...</td>\n",
       "    </tr>\n",
       "    <tr>\n",
       "      <td>2</td>\n",
       "      <td>ATGGCCTCGCGCTGGTGGCGGTGGCGACGCGGCTGCTCCTGGAGGC...</td>\n",
       "      <td>4</td>\n",
       "      <td>[atggcctc, tggcctcg, ggcctcgc, gcctcgcg, cctcg...</td>\n",
       "    </tr>\n",
       "    <tr>\n",
       "      <td>3</td>\n",
       "      <td>ATGGCCTCGCGCTGGTGGCGGTGGCGACGCGGCTGCTCCTGGAGGC...</td>\n",
       "      <td>4</td>\n",
       "      <td>[atggcctc, tggcctcg, ggcctcgc, gcctcgcg, cctcg...</td>\n",
       "    </tr>\n",
       "    <tr>\n",
       "      <td>4</td>\n",
       "      <td>ATGGGCAGCGCCAGCCCGGGTCTGAGCAGCGTGTCCCCCAGCCACC...</td>\n",
       "      <td>6</td>\n",
       "      <td>[atgggcag, tgggcagc, gggcagcg, ggcagcgc, gcagc...</td>\n",
       "    </tr>\n",
       "    <tr>\n",
       "      <td>...</td>\n",
       "      <td>...</td>\n",
       "      <td>...</td>\n",
       "      <td>...</td>\n",
       "    </tr>\n",
       "    <tr>\n",
       "      <td>1677</td>\n",
       "      <td>ATGCTGAGCGGAGCGGCTGGGGCTGCGCGGCGTGGCGGAGCAGCGC...</td>\n",
       "      <td>5</td>\n",
       "      <td>[atgctgag, tgctgagc, gctgagcg, ctgagcgg, tgagc...</td>\n",
       "    </tr>\n",
       "    <tr>\n",
       "      <td>1678</td>\n",
       "      <td>ATGCTGAGCGGAGCGGCTGGGGCTGCGCGGCGTGGCGGAGCAGCGC...</td>\n",
       "      <td>5</td>\n",
       "      <td>[atgctgag, tgctgagc, gctgagcg, ctgagcgg, tgagc...</td>\n",
       "    </tr>\n",
       "    <tr>\n",
       "      <td>1679</td>\n",
       "      <td>ATGAAGCGACCCAAGGAGCCGAGCGGCTCCGACGGGGAGTCCGACG...</td>\n",
       "      <td>6</td>\n",
       "      <td>[atgaagcg, tgaagcga, gaagcgac, aagcgacc, agcga...</td>\n",
       "    </tr>\n",
       "    <tr>\n",
       "      <td>1680</td>\n",
       "      <td>ATGACTGGAACCCCAAAGACTCAAGAAGGAGCTAAAGATCTTGAAG...</td>\n",
       "      <td>3</td>\n",
       "      <td>[atgactgg, tgactgga, gactggaa, actggaac, ctgga...</td>\n",
       "    </tr>\n",
       "    <tr>\n",
       "      <td>1681</td>\n",
       "      <td>ATGTTGCCCAGCTGTGGCAAGATCTTGACTGGGTGTAAGAATATGC...</td>\n",
       "      <td>3</td>\n",
       "      <td>[atgttgcc, tgttgccc, gttgccca, ttgcccag, tgccc...</td>\n",
       "    </tr>\n",
       "  </tbody>\n",
       "</table>\n",
       "<p>1682 rows × 3 columns</p>\n",
       "</div>"
      ],
      "text/plain": [
       "                                               sequence  class  \\\n",
       "0     ATGCCCCAACTAAATACCGCCGTATGACCCACCATAATTACCCCCA...      4   \n",
       "1     ATGAACGAAAATCTATTCGCTTCATTCGCTGCCCCCACAATCCTAG...      4   \n",
       "2     ATGGCCTCGCGCTGGTGGCGGTGGCGACGCGGCTGCTCCTGGAGGC...      4   \n",
       "3     ATGGCCTCGCGCTGGTGGCGGTGGCGACGCGGCTGCTCCTGGAGGC...      4   \n",
       "4     ATGGGCAGCGCCAGCCCGGGTCTGAGCAGCGTGTCCCCCAGCCACC...      6   \n",
       "...                                                 ...    ...   \n",
       "1677  ATGCTGAGCGGAGCGGCTGGGGCTGCGCGGCGTGGCGGAGCAGCGC...      5   \n",
       "1678  ATGCTGAGCGGAGCGGCTGGGGCTGCGCGGCGTGGCGGAGCAGCGC...      5   \n",
       "1679  ATGAAGCGACCCAAGGAGCCGAGCGGCTCCGACGGGGAGTCCGACG...      6   \n",
       "1680  ATGACTGGAACCCCAAAGACTCAAGAAGGAGCTAAAGATCTTGAAG...      3   \n",
       "1681  ATGTTGCCCAGCTGTGGCAAGATCTTGACTGGGTGTAAGAATATGC...      3   \n",
       "\n",
       "                                                   word  \n",
       "0     [atgcccca, tgccccaa, gccccaac, ccccaact, cccaa...  \n",
       "1     [atgaacga, tgaacgaa, gaacgaaa, aacgaaaa, acgaa...  \n",
       "2     [atggcctc, tggcctcg, ggcctcgc, gcctcgcg, cctcg...  \n",
       "3     [atggcctc, tggcctcg, ggcctcgc, gcctcgcg, cctcg...  \n",
       "4     [atgggcag, tgggcagc, gggcagcg, ggcagcgc, gcagc...  \n",
       "...                                                 ...  \n",
       "1677  [atgctgag, tgctgagc, gctgagcg, ctgagcgg, tgagc...  \n",
       "1678  [atgctgag, tgctgagc, gctgagcg, ctgagcgg, tgagc...  \n",
       "1679  [atgaagcg, tgaagcga, gaagcgac, aagcgacc, agcga...  \n",
       "1680  [atgactgg, tgactgga, gactggaa, actggaac, ctgga...  \n",
       "1681  [atgttgcc, tgttgccc, gttgccca, ttgcccag, tgccc...  \n",
       "\n",
       "[1682 rows x 3 columns]"
      ]
     },
     "execution_count": 263,
     "metadata": {},
     "output_type": "execute_result"
    }
   ],
   "source": [
    "data"
   ]
  },
  {
   "cell_type": "code",
   "execution_count": 264,
   "metadata": {},
   "outputs": [
    {
     "data": {
      "text/html": [
       "<div>\n",
       "<style scoped>\n",
       "    .dataframe tbody tr th:only-of-type {\n",
       "        vertical-align: middle;\n",
       "    }\n",
       "\n",
       "    .dataframe tbody tr th {\n",
       "        vertical-align: top;\n",
       "    }\n",
       "\n",
       "    .dataframe thead th {\n",
       "        text-align: right;\n",
       "    }\n",
       "</style>\n",
       "<table border=\"1\" class=\"dataframe\">\n",
       "  <thead>\n",
       "    <tr style=\"text-align: right;\">\n",
       "      <th></th>\n",
       "      <th>class</th>\n",
       "      <th>word</th>\n",
       "    </tr>\n",
       "  </thead>\n",
       "  <tbody>\n",
       "    <tr>\n",
       "      <td>0</td>\n",
       "      <td>4</td>\n",
       "      <td>[atgcccca, tgccccaa, gccccaac, ccccaact, cccaa...</td>\n",
       "    </tr>\n",
       "    <tr>\n",
       "      <td>1</td>\n",
       "      <td>4</td>\n",
       "      <td>[atgaacga, tgaacgaa, gaacgaaa, aacgaaaa, acgaa...</td>\n",
       "    </tr>\n",
       "    <tr>\n",
       "      <td>2</td>\n",
       "      <td>4</td>\n",
       "      <td>[atggcctc, tggcctcg, ggcctcgc, gcctcgcg, cctcg...</td>\n",
       "    </tr>\n",
       "    <tr>\n",
       "      <td>3</td>\n",
       "      <td>4</td>\n",
       "      <td>[atggcctc, tggcctcg, ggcctcgc, gcctcgcg, cctcg...</td>\n",
       "    </tr>\n",
       "    <tr>\n",
       "      <td>4</td>\n",
       "      <td>6</td>\n",
       "      <td>[atgggcag, tgggcagc, gggcagcg, ggcagcgc, gcagc...</td>\n",
       "    </tr>\n",
       "  </tbody>\n",
       "</table>\n",
       "</div>"
      ],
      "text/plain": [
       "   class                                               word\n",
       "0      4  [atgcccca, tgccccaa, gccccaac, ccccaact, cccaa...\n",
       "1      4  [atgaacga, tgaacgaa, gaacgaaa, aacgaaaa, acgaa...\n",
       "2      4  [atggcctc, tggcctcg, ggcctcgc, gcctcgcg, cctcg...\n",
       "3      4  [atggcctc, tggcctcg, ggcctcgc, gcctcgcg, cctcg...\n",
       "4      6  [atgggcag, tgggcagc, gggcagcg, ggcagcgc, gcagc..."
      ]
     },
     "execution_count": 264,
     "metadata": {},
     "output_type": "execute_result"
    }
   ],
   "source": [
    "#we need to drop the sequence column\n",
    "data.drop('sequence', axis=1, inplace=True)\n",
    "data.head()"
   ]
  },
  {
   "cell_type": "code",
   "execution_count": null,
   "metadata": {},
   "outputs": [],
   "source": []
  },
  {
   "cell_type": "code",
   "execution_count": 265,
   "metadata": {},
   "outputs": [],
   "source": [
    "#Label data\n",
    "y = data['class']"
   ]
  },
  {
   "cell_type": "code",
   "execution_count": 266,
   "metadata": {},
   "outputs": [],
   "source": [
    "#converting every DNA sequence to paragraph\n",
    "X = list(data['word'])\n",
    "for row in range(len(X)):\n",
    "    X[row] = ' '.join(X[row])"
   ]
  },
  {
   "cell_type": "code",
   "execution_count": 267,
   "metadata": {},
   "outputs": [
    {
     "data": {
      "text/plain": [
       "'atgcccca tgccccaa gccccaac ccccaact cccaacta ccaactaa caactaaa aactaaat actaaata ctaaatac taaatacc aaataccg aataccgc ataccgcc taccgccg accgccgt ccgccgta cgccgtat gccgtatg ccgtatga cgtatgac gtatgacc tatgaccc atgaccca tgacccac gacccacc acccacca cccaccat ccaccata caccataa accataat ccataatt cataatta ataattac taattacc aattaccc attacccc ttaccccc taccccca acccccat cccccata ccccatac cccatact ccatactc catactcc atactcct tactcctg actcctga ctcctgac tcctgaca cctgacac ctgacact tgacacta gacactat acactatt cactattt actatttc ctatttct tatttctc atttctcg tttctcgt ttctcgtc tctcgtca ctcgtcac tcgtcacc cgtcaccc gtcaccca tcacccaa cacccaac acccaact cccaacta ccaactaa caactaaa aactaaaa actaaaaa ctaaaaat taaaaata aaaaatat aaaatatt aaatatta aatattaa atattaaa tattaaat attaaatt ttaaattc taaattca aaattcaa aattcaaa attcaaat ttcaaatt tcaaatta caaattac aaattacc aattacca attaccat ttaccatc taccatct accatcta ccatctac catctacc atctaccc tctacccc ctaccccc tacccccc acccccct cccccctc ccccctca cccctcac ccctcacc cctcacca ctcaccaa tcaccaaa caccaaaa accaaaac ccaaaacc caaaaccc aaaaccca aaacccat aacccata acccataa cccataaa ccataaaa cataaaaa ataaaaat taaaaata aaaaataa aaaataaa aaataaaa aataaaaa ataaaaaa taaaaaac aaaaaact aaaaacta aaaactac aaactaca aactacaa actacaat ctacaata tacaataa acaataaa caataaac aataaacc ataaaccc taaaccct aaaccctg aaccctga accctgag ccctgaga cctgagaa ctgagaac tgagaacc gagaacca agaaccaa gaaccaaa aaccaaaa accaaaat ccaaaatg caaaatga aaaatgaa aaatgaac aatgaacg atgaacga tgaacgaa gaacgaaa aacgaaaa acgaaaat cgaaaatc gaaaatct aaaatcta aaatctat aatctatt atctattc tctattcg ctattcgc tattcgct attcgctt ttcgcttc tcgcttca cgcttcat gcttcatt cttcattc ttcattcg tcattcgc cattcgct attcgctg ttcgctgc tcgctgcc cgctgccc gctgcccc ctgccccc tgccccca gcccccac cccccaca ccccacaa cccacaat ccacaatc cacaatcc acaatcct caatccta aatcctag'"
      ]
     },
     "execution_count": 267,
     "metadata": {},
     "output_type": "execute_result"
    }
   ],
   "source": [
    "#printing only one DNA sequence\n",
    "X[0]"
   ]
  },
  {
   "cell_type": "code",
   "execution_count": null,
   "metadata": {},
   "outputs": [],
   "source": []
  },
  {
   "cell_type": "code",
   "execution_count": 268,
   "metadata": {},
   "outputs": [],
   "source": [
    "#applying BAG of WORDS using TfidfVectorizer to convert the paragraph to vector \n",
    "tv = TfidfVectorizer(ngram_range=(5,5))\n",
    "tv.fit(X)\n",
    "X = tv.transform(X)\n"
   ]
  },
  {
   "cell_type": "code",
   "execution_count": 269,
   "metadata": {},
   "outputs": [
    {
     "name": "stdout",
     "output_type": "stream",
     "text": [
      "Shape of X after converting to vector : (1682, 1215014)\n",
      "Shape of y : (1682,)\n"
     ]
    }
   ],
   "source": [
    "print('Shape of X after converting to vector :',X.shape)\n",
    "print('Shape of y :',y.shape)"
   ]
  },
  {
   "cell_type": "code",
   "execution_count": null,
   "metadata": {},
   "outputs": [],
   "source": []
  },
  {
   "cell_type": "code",
   "execution_count": 270,
   "metadata": {},
   "outputs": [
    {
     "name": "stdout",
     "output_type": "stream",
     "text": [
      "Shape of xtrain : (1261, 1215014)\n",
      "Shape of xtest : (421, 1215014)\n",
      "Shape of ytrain : (1261,)\n",
      "Shape of ytest : (421,)\n"
     ]
    }
   ],
   "source": [
    "#dividing dataset in train and test\n",
    "xtrain,xtest, ytrain,ytest = train_test_split(X,y, test_size=.25, random_state=0)\n",
    "print('Shape of xtrain :',xtrain.shape)\n",
    "print('Shape of xtest :',xtest.shape)\n",
    "print('Shape of ytrain :',ytrain.shape)\n",
    "print('Shape of ytest :',ytest.shape)"
   ]
  },
  {
   "cell_type": "code",
   "execution_count": null,
   "metadata": {},
   "outputs": [],
   "source": []
  },
  {
   "cell_type": "markdown",
   "metadata": {},
   "source": [
    "# model"
   ]
  },
  {
   "cell_type": "code",
   "execution_count": 282,
   "metadata": {},
   "outputs": [
    {
     "data": {
      "text/plain": [
       "MultinomialNB(alpha=1.0, class_prior=None, fit_prior=True)"
      ]
     },
     "execution_count": 282,
     "metadata": {},
     "output_type": "execute_result"
    }
   ],
   "source": [
    "model = MultinomialNB()\n",
    "model.fit(xtrain,ytrain)"
   ]
  },
  {
   "cell_type": "code",
   "execution_count": 283,
   "metadata": {},
   "outputs": [
    {
     "data": {
      "text/plain": [
       "0.8004750593824228"
      ]
     },
     "execution_count": 283,
     "metadata": {},
     "output_type": "execute_result"
    }
   ],
   "source": [
    "model.score(xtest,ytest)"
   ]
  },
  {
   "cell_type": "code",
   "execution_count": 284,
   "metadata": {},
   "outputs": [],
   "source": [
    "predicted = model.predict(xtest)"
   ]
  },
  {
   "cell_type": "code",
   "execution_count": 285,
   "metadata": {},
   "outputs": [
    {
     "name": "stdout",
     "output_type": "stream",
     "text": [
      "              precision    recall  f1-score   support\n",
      "\n",
      "           0       1.00      0.63      0.77        54\n",
      "           1       1.00      0.88      0.94        42\n",
      "           2       1.00      0.88      0.93        32\n",
      "           3       1.00      0.77      0.87        66\n",
      "           4       1.00      0.67      0.80        64\n",
      "           5       1.00      0.39      0.56        31\n",
      "           6       0.61      1.00      0.76       132\n",
      "\n",
      "    accuracy                           0.80       421\n",
      "   macro avg       0.94      0.75      0.81       421\n",
      "weighted avg       0.88      0.80      0.80       421\n",
      "\n"
     ]
    }
   ],
   "source": [
    "#classification report\n",
    "print(classification_report(ytest,predicted))"
   ]
  },
  {
   "cell_type": "code",
   "execution_count": 286,
   "metadata": {},
   "outputs": [
    {
     "data": {
      "text/plain": [
       "<matplotlib.axes._subplots.AxesSubplot at 0x7f8f7b48fed0>"
      ]
     },
     "execution_count": 286,
     "metadata": {},
     "output_type": "execute_result"
    },
    {
     "data": {
      "image/png": "[encoded data removed]",
      "text/plain": [
       "<Figure size 432x288 with 1 Axes>"
      ]
     },
     "metadata": {
      "needs_background": "light"
     },
     "output_type": "display_data"
    }
   ],
   "source": [
    "#confusion matrix\n",
    "sns.heatmap(confusion_matrix(ytest,predicted), square=True, annot=True, fmt='d', cbar=False)"
   ]
  },
  {
   "cell_type": "code",
   "execution_count": null,
   "metadata": {},
   "outputs": [],
   "source": []
  }
 ],
 "metadata": {
  "kernelspec": {
   "display_name": "Python 3",
   "language": "python",
   "name": "python3"
  },
  "language_info": {
   "codemirror_mode": {
    "name": "ipython",
    "version": 3
   },
   "file_extension": ".py",
   "mimetype": "text/x-python",
   "name": "python",
   "nbconvert_exporter": "python",
   "pygments_lexer": "ipython3",
   "version": "3.7.4"
  }
 },
 "nbformat": 4,
 "nbformat_minor": 2
}
